{
 "cells": [
  {
   "cell_type": "markdown",
   "metadata": {},
   "source": [
    "# WeatherPy\n",
    "----\n",
    "\n",
    "#### Note\n",
    "* Instructions have been included for each segment. You do not have to follow them exactly, but they are included to help you think through the steps."
   ]
  },
  {
   "cell_type": "code",
   "execution_count": 1,
   "metadata": {
    "scrolled": true
   },
   "outputs": [],
   "source": [
    "# Dependencies and Setup\n",
    "import matplotlib.pyplot as plt\n",
    "import pandas as pd\n",
    "import numpy as np\n",
    "import requests\n",
    "import time\n",
    "from scipy.stats import linregress\n",
    "\n",
    "# Import API key\n",
    "from api_keys import weather_api_key\n",
    "\n",
    "# Incorporated citipy to determine city based on latitude and longitude\n",
    "from citipy import citipy\n",
    "\n",
    "# Output File (CSV)\n",
    "output_data_file = \"output_data/cities.csv\"\n",
    "\n",
    "# Range of latitudes and longitudes\n",
    "lat_range = (-90, 90)\n",
    "lng_range = (-180, 180)"
   ]
  },
  {
   "cell_type": "markdown",
   "metadata": {},
   "source": [
    "## Generate Cities List"
   ]
  },
  {
   "cell_type": "code",
   "execution_count": 2,
   "metadata": {},
   "outputs": [
    {
     "data": {
      "text/plain": [
       "615"
      ]
     },
     "execution_count": 2,
     "metadata": {},
     "output_type": "execute_result"
    }
   ],
   "source": [
    "# List for holding lat_lngs and cities\n",
    "lat_lngs = []\n",
    "cities = []\n",
    "\n",
    "# Create a set of random lat and lng combinations\n",
    "lats = np.random.uniform(low=-90.000, high=90.000, size=1500)\n",
    "lngs = np.random.uniform(low=-180.000, high=180.000, size=1500)\n",
    "lat_lngs = zip(lats, lngs)\n",
    "\n",
    "# Identify nearest city for each lat, lng combination\n",
    "for lat_lng in lat_lngs:\n",
    "    city = citipy.nearest_city(lat_lng[0], lat_lng[1]).city_name\n",
    "    \n",
    "    # If the city is unique, then add it to a our cities list\n",
    "    if city not in cities:\n",
    "        cities.append(city)\n",
    "\n",
    "# Print the city count to confirm sufficient count\n",
    "len(cities)"
   ]
  },
  {
   "cell_type": "markdown",
   "metadata": {},
   "source": [
    "### Perform API Calls\n",
    "* Perform a weather check on each city using a series of successive API calls.\n",
    "* Include a print log of each city as it'sbeing processed (with the city number and city name).\n"
   ]
  },
  {
   "cell_type": "code",
   "execution_count": 3,
   "metadata": {},
   "outputs": [],
   "source": [
    "import json\n",
    "import pprint"
   ]
  },
  {
   "cell_type": "code",
   "execution_count": 6,
   "metadata": {},
   "outputs": [
    {
     "name": "stdout",
     "output_type": "stream",
     "text": [
      "{'coord': {'lon': -73.65, 'lat': -37.62}, 'weather': [{'id': 803, 'main': 'Clouds', 'description': 'broken clouds', 'icon': '04n'}], 'base': 'stations', 'main': {'temp': 51.64, 'feels_like': 44.71, 'temp_min': 51.64, 'temp_max': 51.64, 'pressure': 1023, 'humidity': 85, 'sea_level': 1023, 'grnd_level': 1012}, 'wind': {'speed': 11.21, 'deg': 174}, 'clouds': {'all': 61}, 'dt': 1589251017, 'sys': {'country': 'CL', 'sunrise': 1589197479, 'sunset': 1589234242}, 'timezone': -14400, 'id': 3883457, 'name': 'Lebu', 'cod': 200}\n"
     ]
    }
   ],
   "source": [
    "url = \"http://api.openweathermap.org/data/2.5/weather?\"\n",
    "query_url = f\"{url}appid={weather_api_key}&units=imperial&q=\"\n",
    "\n",
    "response = requests.get(query_url + city)\n",
    "json = response.json()\n",
    "print(json)"
   ]
  },
  {
   "cell_type": "code",
   "execution_count": 7,
   "metadata": {},
   "outputs": [
    {
     "name": "stdout",
     "output_type": "stream",
     "text": [
      "<Response [200]>\n"
     ]
    }
   ],
   "source": [
    "print(requests.get(query_url + city))"
   ]
  },
  {
   "cell_type": "code",
   "execution_count": 12,
   "metadata": {},
   "outputs": [
    {
     "name": "stdout",
     "output_type": "stream",
     "text": [
      "Recorded city 1 - Puerto Ayora\n",
      "Recorded city 2 - Saint-Joseph\n",
      "No city found. Next..\n",
      "Recorded city 3 - Zhaoyuan\n",
      "Recorded city 4 - Yellowknife\n",
      "Recorded city 5 - Busselton\n",
      "Recorded city 6 - Longyearbyen\n",
      "Recorded city 7 - Coquimbo\n",
      "Recorded city 8 - Payakumbuh\n",
      "Recorded city 9 - Mataura\n",
      "Recorded city 10 - Thompson\n",
      "Recorded city 11 - Jamestown\n",
      "Recorded city 12 - Olinda\n",
      "Recorded city 13 - Norsup\n",
      "Recorded city 14 - Mahébourg\n",
      "Recorded city 15 - La Vergne\n",
      "Recorded city 16 - Salinópolis\n",
      "Recorded city 17 - Atuona\n",
      "Recorded city 18 - Upernavik\n",
      "Recorded city 19 - Ushuaia\n",
      "Recorded city 20 - Rikitea\n",
      "Recorded city 21 - Chokurdakh\n",
      "No city found. Next..\n",
      "Recorded city 22 - Qaanaaq\n",
      "No city found. Next..\n",
      "No city found. Next..\n",
      "Recorded city 23 - Bluff\n",
      "Recorded city 24 - Mirny\n",
      "Recorded city 25 - Vol'sk\n",
      "Recorded city 26 - Tuktoyaktuk\n",
      "Recorded city 27 - Zaysan\n",
      "Recorded city 28 - Pevek\n",
      "Recorded city 29 - Presidencia Roque Sáenz Peña\n",
      "Recorded city 30 - Provideniya\n",
      "Recorded city 31 - Manggar\n",
      "Recorded city 32 - Pinega\n",
      "Recorded city 33 - Verkh-Usugli\n",
      "No city found. Next..\n",
      "Recorded city 34 - Chui\n",
      "Recorded city 35 - Saint Paul Harbor\n",
      "No city found. Next..\n",
      "Recorded city 36 - East London\n",
      "Recorded city 37 - Iqaluit\n",
      "Recorded city 38 - Bintulu\n",
      "Recorded city 39 - Haimen\n",
      "Recorded city 40 - Winchester\n",
      "Recorded city 41 - Swift Current\n",
      "Recorded city 42 - Hilo\n",
      "Recorded city 43 - Butaritari\n",
      "Recorded city 44 - New Norfolk\n",
      "Recorded city 45 - Harper\n",
      "Recorded city 46 - Havøysund\n",
      "Recorded city 47 - Kapaa\n",
      "Recorded city 48 - La Ronge\n",
      "Recorded city 49 - Horki\n",
      "Recorded city 50 - Pasni\n",
      "Recorded city 51 - Kumul\n",
      "Recorded city 52 - Thunder Bay\n",
      "Recorded city 53 - Apomu\n",
      "Recorded city 54 - Grand Gaube\n",
      "Recorded city 55 - Koróni\n",
      "No city found. Next..\n",
      "Recorded city 56 - Sept-Îles\n",
      "Recorded city 57 - Lensk\n",
      "Recorded city 58 - Mount Isa\n",
      "Recorded city 59 - Port Alfred\n",
      "Recorded city 60 - Port Elizabeth\n",
      "Recorded city 61 - Khatanga\n",
      "Recorded city 62 - Naze\n",
      "Recorded city 63 - Kattivākkam\n",
      "No city found. Next..\n",
      "Recorded city 64 - Baykit\n",
      "Recorded city 65 - Hailar\n",
      "Recorded city 66 - Fraserburgh\n",
      "Recorded city 67 - Hobart\n",
      "Recorded city 68 - Cape Town\n",
      "Recorded city 69 - Saint George\n",
      "Recorded city 70 - San Cristobal\n",
      "Recorded city 71 - Faya\n",
      "Recorded city 72 - Airai\n",
      "Recorded city 73 - Porto-Novo\n",
      "Recorded city 74 - Galesong\n",
      "Recorded city 75 - Pochutla\n",
      "Recorded city 76 - Kurumkan\n",
      "Recorded city 77 - Kotdwāra\n",
      "Recorded city 78 - Lompoc\n",
      "Recorded city 79 - Maltahöhe\n",
      "Recorded city 80 - Kaeo\n",
      "Recorded city 81 - Murray Bridge\n",
      "Recorded city 82 - Paita\n",
      "Recorded city 83 - Punta Arenas\n",
      "No city found. Next..\n",
      "Recorded city 84 - Chegdomyn\n",
      "Recorded city 85 - Kokkola\n",
      "Recorded city 86 - Hay River\n",
      "Recorded city 87 - Santa Isabel\n",
      "Recorded city 88 - Arraial do Cabo\n",
      "Recorded city 89 - Pisco\n",
      "Recorded city 90 - Hermanus\n",
      "No city found. Next..\n",
      "No city found. Next..\n",
      "Recorded city 91 - Poum\n",
      "Recorded city 92 - Barrow\n",
      "Recorded city 93 - Clyde River\n",
      "Recorded city 94 - Gizo Government Station\n",
      "Recorded city 95 - Albany\n",
      "Recorded city 96 - Norman Wells\n",
      "Recorded city 97 - Pimenta Bueno\n",
      "Recorded city 98 - Aykhal\n",
      "Recorded city 99 - Halifax\n",
      "No city found. Next..\n",
      "Recorded city 100 - Castro\n",
      "Recorded city 101 - Usinsk\n",
      "Recorded city 102 - Ambilobe\n",
      "Recorded city 103 - Sitka\n",
      "Recorded city 104 - Luganville\n",
      "Recorded city 105 - Bathsheba\n",
      "Recorded city 106 - Abu Dhabi\n",
      "Recorded city 107 - Sapulpa\n",
      "Recorded city 108 - Dikson\n",
      "Recorded city 109 - Takoradze\n",
      "Recorded city 110 - Vaini\n",
      "Recorded city 111 - Lázaro Cárdenas\n",
      "Recorded city 112 - Mahajanga\n",
      "Recorded city 113 - Kamyshevatskaya\n",
      "Recorded city 114 - Praia da Vitória\n",
      "Recorded city 115 - Senador José Porfírio\n",
      "Recorded city 116 - Svatove\n",
      "Recorded city 117 - Omsukchan\n",
      "Recorded city 118 - Port Shepstone\n",
      "Recorded city 119 - Rafai\n",
      "Recorded city 120 - Cockburn Town\n",
      "Recorded city 121 - Bredasdorp\n",
      "Recorded city 122 - Vila Velha\n",
      "Recorded city 123 - Maniitsoq\n",
      "Recorded city 124 - Port-Gentil\n",
      "Recorded city 125 - Kisangani\n",
      "Recorded city 126 - Ahipara\n",
      "Recorded city 127 - Tura\n",
      "Recorded city 128 - Natal\n",
      "Recorded city 129 - Nantucket\n",
      "Recorded city 130 - Tasiilaq\n",
      "Recorded city 131 - Antalaha\n",
      "Recorded city 132 - Erenhot\n",
      "Recorded city 133 - Ponta do Sol\n",
      "Recorded city 134 - Rochegda\n",
      "Recorded city 135 - Praia\n",
      "Recorded city 136 - Zhicheng\n",
      "Recorded city 137 - Okhotsk\n",
      "No city found. Next..\n",
      "Recorded city 138 - Samarai\n",
      "Recorded city 139 - Yatou\n",
      "Recorded city 140 - Kampong Thom\n",
      "Recorded city 141 - Cidreira\n",
      "Recorded city 142 - Palana\n",
      "Recorded city 143 - Lasem\n",
      "Recorded city 144 - Kaitangata\n",
      "Recorded city 145 - Cayenne\n",
      "Recorded city 146 - Leiyang\n",
      "No city found. Next..\n",
      "Recorded city 147 - Lumby\n",
      "Recorded city 148 - Kruisfontein\n",
      "Recorded city 149 - Okato\n",
      "No city found. Next..\n",
      "Recorded city 150 - Mar del Plata\n",
      "Recorded city 151 - Itoman\n",
      "Recorded city 152 - Hong Kong\n",
      "No city found. Next..\n",
      "Recorded city 153 - Haines Junction\n",
      "Recorded city 154 - Adrar\n",
      "Recorded city 155 - Chicontepec\n",
      "Recorded city 156 - Nuevo Progreso\n",
      "Recorded city 157 - Haikou\n",
      "No city found. Next..\n",
      "Recorded city 158 - Belyy Yar\n",
      "Recorded city 159 - Codrington\n",
      "Recorded city 160 - Fortuna\n",
      "Recorded city 161 - Padang\n",
      "Recorded city 162 - Saldanha\n",
      "Recorded city 163 - Avarua\n",
      "Recorded city 164 - Namatanai\n",
      "Recorded city 165 - Vanderhoof\n",
      "Recorded city 166 - Lábrea\n",
      "Recorded city 167 - Sinnamary\n",
      "Recorded city 168 - Bogandinskiy\n",
      "Recorded city 169 - Vestmannaeyjar\n",
      "No city found. Next..\n",
      "Recorded city 170 - Kupang\n",
      "Recorded city 171 - Marawi\n",
      "Recorded city 172 - Kajaani\n",
      "Recorded city 173 - Solnechnyy\n",
      "Recorded city 174 - Synya\n",
      "Recorded city 175 - Isangel\n",
      "Recorded city 176 - Boppard\n",
      "Recorded city 177 - Virginia Beach\n",
      "No city found. Next..\n",
      "Recorded city 178 - Ketchikan\n",
      "Recorded city 179 - Nālūt\n",
      "Recorded city 180 - Baharly\n",
      "Recorded city 181 - Altamira\n",
      "Recorded city 182 - Guerrero Negro\n",
      "Recorded city 183 - Vidim\n",
      "Recorded city 184 - Maïné Soroa\n",
      "Recorded city 185 - Morgan City\n",
      "Recorded city 186 - Sotik Post\n",
      "Recorded city 187 - Bengkulu\n",
      "Recorded city 188 - Kushiro\n",
      "Recorded city 189 - Ayr\n",
      "Recorded city 190 - Tambopata\n",
      "Recorded city 191 - Palembang\n",
      "Recorded city 192 - Orán\n",
      "Recorded city 193 - Saint-Pierre\n",
      "Recorded city 194 - Aswān\n",
      "Recorded city 195 - Borogontsy\n",
      "Recorded city 196 - Ust-Nera\n",
      "Recorded city 197 - Saint Anthony\n",
      "Recorded city 198 - Ribeira Grande\n",
      "Recorded city 199 - Torbay\n",
      "Recorded city 200 - Hithadhoo\n",
      "Recorded city 201 - Rognan\n",
      "Recorded city 202 - Yerbogachën\n",
      "Recorded city 203 - Juneau\n",
      "Recorded city 204 - Souillac\n",
      "Recorded city 205 - Darasun\n",
      "Recorded city 206 - Nioro\n",
      "Recorded city 207 - Yarim\n",
      "Recorded city 208 - Beisfjord\n",
      "Recorded city 209 - Ridgecrest\n",
      "Recorded city 210 - Laguna\n",
      "No city found. Next..\n",
      "Recorded city 211 - Hamilton\n",
      "Recorded city 212 - Lebu\n",
      "Recorded city 213 - Geraldton\n",
      "Recorded city 214 - Kalmunai\n",
      "Recorded city 215 - Vila Franca do Campo\n",
      "Recorded city 216 - Baruun-Urt\n",
      "No city found. Next..\n",
      "Recorded city 217 - Tautira\n",
      "Recorded city 218 - Springfield\n",
      "Recorded city 219 - Gwalior\n",
      "Recorded city 220 - Paraná\n",
      "Recorded city 221 - Siocon\n",
      "Recorded city 222 - Ixtapa\n",
      "No city found. Next..\n",
      "Recorded city 223 - Dongzhen\n",
      "Recorded city 224 - Portland\n",
      "Recorded city 225 - Blackwater\n",
      "Recorded city 226 - Yzeure\n",
      "Recorded city 227 - Belmonte\n",
      "No city found. Next..\n",
      "Recorded city 228 - Yangi Marg`ilon\n",
      "Recorded city 229 - Katsuura\n",
      "Recorded city 230 - Goba\n",
      "Recorded city 231 - Villa Unión\n",
      "Recorded city 232 - Whitianga\n",
      "Recorded city 233 - Tiksi\n",
      "Recorded city 234 - Hambantota\n",
      "Recorded city 235 - Mount Gambier\n",
      "No city found. Next..\n",
      "Recorded city 236 - Hidalgotitlán\n",
      "Recorded city 237 - Guarapari\n",
      "Recorded city 238 - Yulara\n",
      "Recorded city 239 - Salalah\n",
      "Recorded city 240 - Bambari\n",
      "Recorded city 241 - Carnarvon\n",
      "Recorded city 242 - Requena\n",
      "Recorded city 243 - Narón\n",
      "Recorded city 244 - Khorramabad\n",
      "Recorded city 245 - Mulegé\n",
      "Recorded city 246 - Arlit\n",
      "Recorded city 247 - Alpena\n",
      "Recorded city 248 - Jumla\n",
      "Recorded city 249 - Cherskiy\n",
      "Recorded city 250 - Corral Nuevo\n",
      "Recorded city 251 - Labuhan\n",
      "Recorded city 252 - San Quintín\n",
      "No city found. Next..\n",
      "No city found. Next..\n",
      "Recorded city 253 - Ashtabula\n",
      "Recorded city 254 - Conceição do Araguaia\n",
      "Recorded city 255 - Kavaratti\n",
      "Recorded city 256 - Aklavik\n",
      "Recorded city 257 - Safford\n",
      "Recorded city 258 - Flinders\n",
      "Recorded city 259 - Nikolskoye\n",
      "Recorded city 260 - Kifrī\n",
      "Recorded city 261 - Shingū\n",
      "Recorded city 262 - Constitución\n"
     ]
    },
    {
     "name": "stdout",
     "output_type": "stream",
     "text": [
      "Recorded city 263 - Merrill\n",
      "Recorded city 264 - Novy Urengoy\n",
      "No city found. Next..\n",
      "Recorded city 265 - Bud\n",
      "No city found. Next..\n",
      "Recorded city 266 - Lorengau\n",
      "Recorded city 267 - Kampot\n",
      "Recorded city 268 - Scarborough\n",
      "Recorded city 269 - Yārāda\n",
      "Recorded city 270 - Te Anau\n",
      "Recorded city 271 - Los Llanos de Aridane\n",
      "Recorded city 272 - Gushikawa\n",
      "Recorded city 273 - Hualmay\n",
      "No city found. Next..\n",
      "Recorded city 274 - Nishihara\n",
      "Recorded city 275 - Ubari\n",
      "No city found. Next..\n",
      "Recorded city 276 - Lahad Datu\n",
      "Recorded city 277 - Sangīn\n",
      "Recorded city 278 - Klaksvík\n",
      "Recorded city 279 - Eureka\n",
      "Recorded city 280 - Honiara\n",
      "Recorded city 281 - Tutóia\n",
      "Recorded city 282 - Cleburne\n",
      "Recorded city 283 - Lüderitz\n",
      "Recorded city 284 - La Seyne-sur-Mer\n",
      "Recorded city 285 - Berkåk\n",
      "No city found. Next..\n",
      "Recorded city 286 - Bethel\n",
      "No city found. Next..\n",
      "Recorded city 287 - Chimoré\n",
      "Recorded city 288 - Saskylakh\n",
      "Recorded city 289 - Vangaindrano\n",
      "Recorded city 290 - Candelaria\n",
      "Recorded city 291 - Camocim\n",
      "Recorded city 292 - Tual\n",
      "Recorded city 293 - Esperance\n",
      "Recorded city 294 - Waipawa\n",
      "Recorded city 295 - Dolores\n",
      "Recorded city 296 - San Angelo\n",
      "Recorded city 297 - Broken Hill\n",
      "Recorded city 298 - Gashua\n",
      "Recorded city 299 - Havelock\n",
      "No city found. Next..\n",
      "No city found. Next..\n",
      "Recorded city 300 - Inhambane\n",
      "Recorded city 301 - Mitsamiouli\n",
      "Recorded city 302 - Kenai\n",
      "Recorded city 303 - Mawlaik\n",
      "Recorded city 304 - Hasaki\n",
      "Recorded city 305 - Bandarbeyla\n",
      "Recorded city 306 - Cairns\n",
      "Recorded city 307 - Mangai\n",
      "Recorded city 308 - Nemuro\n",
      "Recorded city 309 - Strezhevoy\n",
      "Recorded city 310 - Ancud\n",
      "Recorded city 311 - Post Falls\n",
      "Recorded city 312 - Atocha\n",
      "Recorded city 313 - Bitung\n",
      "Recorded city 314 - Sangar\n",
      "Recorded city 315 - Zhigansk\n",
      "Recorded city 316 - Hobyo\n",
      "No city found. Next..\n",
      "Recorded city 317 - Madison\n",
      "Recorded city 318 - Muros\n",
      "Recorded city 319 - Miraflores\n",
      "Recorded city 320 - Kutum\n",
      "Recorded city 321 - Olafsvik\n",
      "Recorded city 322 - Mexico\n",
      "No city found. Next..\n",
      "Recorded city 323 - Port Augusta\n",
      "Recorded city 324 - Pringsewu\n",
      "Recorded city 325 - Cabo San Lucas\n",
      "Recorded city 326 - La Rioja\n",
      "Recorded city 327 - Nelson Bay\n",
      "Recorded city 328 - Avera\n",
      "Recorded city 329 - Kenora\n",
      "Recorded city 330 - Asău\n",
      "No city found. Next..\n",
      "Recorded city 331 - Lębork\n",
      "Recorded city 332 - La Libertad\n",
      "Recorded city 333 - Kudeyevskiy\n",
      "Recorded city 334 - Tamiahua\n",
      "Recorded city 335 - Narsaq\n",
      "No city found. Next..\n",
      "Recorded city 336 - Sorong\n",
      "Recorded city 337 - Scottsbluff\n",
      "No city found. Next..\n",
      "Recorded city 338 - Caravelas\n",
      "Recorded city 339 - Severo-Kuril'sk\n",
      "Recorded city 340 - Sa Kaeo\n",
      "Recorded city 341 - Adeje\n",
      "No city found. Next..\n",
      "Recorded city 342 - Wau\n",
      "Recorded city 343 - Jacareacanga\n",
      "Recorded city 344 - George Town\n",
      "Recorded city 345 - Komatipoort\n",
      "Recorded city 346 - Charters Towers\n",
      "Recorded city 347 - Rawson\n",
      "Recorded city 348 - Dwārka\n",
      "Recorded city 349 - Normandin\n",
      "Recorded city 350 - Constantine\n",
      "No city found. Next..\n",
      "Recorded city 351 - Channel-Port aux Basques\n",
      "Recorded city 352 - Taucha\n",
      "Recorded city 353 - Pomoriany\n",
      "Recorded city 354 - Atar\n",
      "No city found. Next..\n",
      "No city found. Next..\n",
      "Recorded city 355 - Ugoofaaru\n",
      "Recorded city 356 - Saint-Philippe\n",
      "Recorded city 357 - Coahuayana Viejo\n",
      "Recorded city 358 - Huarmey\n",
      "Recorded city 359 - Areosa\n",
      "Recorded city 360 - Barysh\n",
      "Recorded city 361 - Bambous Virieux\n",
      "Recorded city 362 - São Filipe\n",
      "Recorded city 363 - Paka\n",
      "Recorded city 364 - Port Lincoln\n",
      "Recorded city 365 - Malanje\n",
      "Recorded city 366 - Taltal\n",
      "Recorded city 367 - Dunedin\n",
      "Recorded city 368 - Porto Belo\n",
      "Recorded city 369 - Leningradskiy\n",
      "Recorded city 370 - Erzin\n",
      "Recorded city 371 - Luanda\n",
      "Recorded city 372 - Pangnirtung\n",
      "Recorded city 373 - Vardø\n",
      "Recorded city 374 - Chapais\n",
      "Recorded city 375 - Ambanja\n",
      "Recorded city 376 - Umm Bāb\n",
      "Recorded city 377 - Nome\n",
      "Recorded city 378 - San Andrés\n",
      "Recorded city 379 - Kavieng\n",
      "Recorded city 380 - San Policarpo\n",
      "Recorded city 381 - Atambua\n",
      "Recorded city 382 - Departamento de Maldonado\n",
      "Recorded city 383 - Utica\n",
      "Recorded city 384 - Rio Grande\n",
      "No city found. Next..\n",
      "Recorded city 385 - Mahon\n",
      "Recorded city 386 - Senno\n",
      "Recorded city 387 - Vieux-Habitants\n",
      "Recorded city 388 - Selma\n",
      "Recorded city 389 - Tucuruí\n",
      "Recorded city 390 - Maragogi\n",
      "Recorded city 391 - Acaraú\n",
      "Recorded city 392 - Bonavista\n",
      "Recorded city 393 - Kokoda\n",
      "Recorded city 394 - Svetlaya\n",
      "Recorded city 395 - Letterkenny\n",
      "Recorded city 396 - Hīt\n",
      "Recorded city 397 - Road Town\n",
      "Recorded city 398 - Itaituba\n",
      "Recorded city 399 - Auki\n",
      "Recorded city 400 - Walvis Bay\n",
      "No city found. Next..\n",
      "Recorded city 401 - Fort Nelson\n",
      "Recorded city 402 - Bartica\n",
      "Recorded city 403 - Pumiao\n",
      "Recorded city 404 - Luangwa\n",
      "Recorded city 405 - Savannah Bight\n",
      "Recorded city 406 - Tuxpan\n",
      "Recorded city 407 - Poltavka\n",
      "Recorded city 408 - Lata\n",
      "Recorded city 409 - Whitecourt\n",
      "Recorded city 410 - Turbat\n",
      "Recorded city 411 - Port Hedland\n",
      "Recorded city 412 - Nanortalik\n",
      "Recorded city 413 - Lexington\n",
      "Recorded city 414 - Quelimane\n",
      "Recorded city 415 - Coyhaique\n",
      "No city found. Next..\n",
      "Recorded city 416 - Binzhou\n",
      "Recorded city 417 - Dandong\n",
      "Recorded city 418 - Saint-Honoré\n",
      "Recorded city 419 - Dukat\n",
      "Recorded city 420 - Nabire\n",
      "Recorded city 421 - Jalu\n",
      "Recorded city 422 - Paamiut\n",
      "Recorded city 423 - Prymors'k\n",
      "Recorded city 424 - Tolaga Bay\n",
      "Recorded city 425 - Skellefteå\n",
      "Recorded city 426 - Tawang Town\n",
      "Recorded city 427 - Tsimmerbude\n",
      "Recorded city 428 - Longido\n",
      "Recorded city 429 - Buchanan\n",
      "No city found. Next..\n",
      "Recorded city 430 - San Patricio\n",
      "Recorded city 431 - Bereket\n",
      "Recorded city 432 - Bijni\n",
      "Recorded city 433 - Marzuq\n",
      "Recorded city 434 - Yar-Sale\n",
      "Recorded city 435 - Tobol\n",
      "Recorded city 436 - Darnah\n",
      "Recorded city 437 - Hanumāngarh\n",
      "Recorded city 438 - Bahía Blanca\n",
      "Recorded city 439 - Bogen\n",
      "Recorded city 440 - Opelousas\n",
      "Recorded city 441 - Pahrump\n",
      "Recorded city 442 - Mesyagutovo\n",
      "Recorded city 443 - Chaykovskiy\n",
      "Recorded city 444 - Boguchany\n",
      "Recorded city 445 - Sechura\n",
      "Recorded city 446 - Beloha\n",
      "Recorded city 447 - Kula\n",
      "Recorded city 448 - Rundu\n",
      "Recorded city 449 - Ocotepec\n",
      "Recorded city 450 - Marfino\n",
      "Recorded city 451 - Taremskoye\n",
      "Recorded city 452 - Cabedelo\n",
      "No city found. Next..\n",
      "Recorded city 453 - Zabul Province\n",
      "Recorded city 454 - Mpigi\n",
      "Recorded city 455 - Misratah\n",
      "Recorded city 456 - Grindavik\n",
      "Recorded city 457 - Rumuruti\n",
      "Recorded city 458 - Nakamura\n",
      "Recorded city 459 - Vrede\n",
      "Recorded city 460 - Tezu\n",
      "Recorded city 461 - Brae\n",
      "Recorded city 462 - Anuradhapura\n",
      "Recorded city 463 - Husavik\n",
      "Recorded city 464 - Merauke\n",
      "Recorded city 465 - Hirado\n",
      "Recorded city 466 - Plouzané\n",
      "Recorded city 467 - Río Gallegos\n",
      "Recorded city 468 - Ajdabiya\n",
      "Recorded city 469 - Meulaboh\n",
      "Recorded city 470 - Nerchinskiy Zavod\n",
      "No city found. Next..\n",
      "Recorded city 471 - Vao\n",
      "Recorded city 472 - Sulina\n",
      "Recorded city 473 - Ternate\n",
      "No city found. Next..\n",
      "Recorded city 474 - Ürümqi\n",
      "Recorded city 475 - Province of Mantua\n",
      "Recorded city 476 - Rock Sound\n",
      "Recorded city 477 - Van Buren\n",
      "Recorded city 478 - Carbonia\n",
      "Recorded city 479 - Mossamedes\n",
      "Recorded city 480 - Margate\n",
      "Recorded city 481 - Kahului\n",
      "Recorded city 482 - Yagoua\n",
      "Recorded city 483 - Raja\n",
      "Recorded city 484 - Mujiayingzi\n",
      "Recorded city 485 - Vanimo\n",
      "Recorded city 486 - Mana\n",
      "Recorded city 487 - Umluj\n",
      "Recorded city 488 - Orange Walk District\n",
      "Recorded city 489 - Alofi\n",
      "Recorded city 490 - Mokhsogollokh\n",
      "No city found. Next..\n",
      "Recorded city 491 - Trairi\n",
      "Recorded city 492 - Zhezkazgan\n",
      "No city found. Next..\n",
      "Recorded city 493 - Isoka\n",
      "Recorded city 494 - Villa Corzo\n",
      "Recorded city 495 - Pacific Grove\n",
      "Recorded city 496 - Matara\n",
      "Recorded city 497 - Taraz\n",
      "Recorded city 498 - Batagay-Alyta\n",
      "Recorded city 499 - Havre-St-Pierre\n",
      "Recorded city 500 - Vila\n",
      "Recorded city 501 - Āgaro\n",
      "Recorded city 502 - Port Hardy\n",
      "Recorded city 503 - Forsytheganj\n",
      "Recorded city 504 - Black Forest\n",
      "Recorded city 505 - Oktyabr'skoye\n",
      "Recorded city 506 - Qarqīn\n",
      "Recorded city 507 - Diu\n",
      "No city found. Next..\n",
      "Recorded city 508 - Srednekolymsk\n",
      "Recorded city 509 - Zharkent\n",
      "Recorded city 510 - Hoquiam\n",
      "Recorded city 511 - Ambon City\n",
      "Recorded city 512 - Kuytun\n",
      "Recorded city 513 - Araouane\n",
      "Recorded city 514 - Mugur-Aksy\n",
      "No city found. Next..\n",
      "Recorded city 515 - Le Port\n",
      "Recorded city 516 - Faanui\n",
      "Recorded city 517 - Namtsy\n",
      "Recorded city 518 - Launceston\n",
      "Recorded city 519 - Ruidoso\n",
      "Recorded city 520 - Neiafu\n"
     ]
    },
    {
     "name": "stdout",
     "output_type": "stream",
     "text": [
      "Recorded city 521 - Reconquista\n",
      "Recorded city 522 - Adré\n",
      "Recorded city 523 - La Asuncion\n",
      "Recorded city 524 - Wiarton\n",
      "Recorded city 525 - Broome\n",
      "Recorded city 526 - Acapulco de Juárez\n",
      "Recorded city 527 - Akçaabat\n",
      "Recorded city 528 - Puerto Peñasco\n",
      "Recorded city 529 - Upata\n",
      "Recorded city 530 - La Mira\n",
      "Recorded city 531 - Vostok\n",
      "Recorded city 532 - Kitob\n",
      "Recorded city 533 - Amarante do Maranhão\n",
      "Recorded city 534 - Irtyshskiy\n",
      "No city found. Next..\n",
      "Recorded city 535 - Lālmohan\n",
      "Recorded city 536 - Samur\n",
      "Recorded city 537 - Bima\n",
      "Recorded city 538 - Samaná\n",
      "Recorded city 539 - Piaçabuçu\n",
      "No city found. Next..\n",
      "Recorded city 540 - Qian’an\n",
      "Recorded city 541 - Chiredzi\n",
      "Recorded city 542 - Bayangol\n",
      "Recorded city 543 - Vlorë\n",
      "Recorded city 544 - Quang Ngai\n",
      "Recorded city 545 - Aykino\n",
      "Recorded city 546 - Taunggyi\n",
      "Recorded city 547 - Leh\n",
      "Recorded city 548 - Kaset Sombun\n",
      "Recorded city 549 - Fare\n",
      "Recorded city 550 - Batemans Bay\n",
      "No city found. Next..\n",
      "Recorded city 551 - Kargasok\n",
      "Recorded city 552 - Praia\n",
      "Recorded city 553 - Alamosa\n",
      "Recorded city 554 - Zhuhai\n",
      "Recorded city 555 - Ulaangom\n",
      "Recorded city 556 - Palmer\n",
      "Recorded city 557 - Shimoda\n",
      "Recorded city 558 - Boa Vista\n"
     ]
    }
   ],
   "source": [
    "# create lists to hold response data\n",
    "city_name = []\n",
    "country = []\n",
    "date = []\n",
    "latitude = []\n",
    "longitude = []\n",
    "max_temp = []\n",
    "humidity = []\n",
    "cloudiness = []\n",
    "wind_speed = []\n",
    "\n",
    "counter = 1\n",
    "\n",
    "# create loop through all cities and request the data for each list\n",
    "for city in cities:\n",
    "    \n",
    "    try:\n",
    "        response = requests.get(query_url + city).json()\n",
    "        \n",
    "        city_name.append(response[\"name\"])\n",
    "        country.append(response[\"sys\"][\"country\"])\n",
    "        date.append(response[\"dt\"])\n",
    "        latitude.append(response[\"coord\"][\"lat\"])\n",
    "        longitude.append(response[\"coord\"][\"lon\"])\n",
    "        max_temp.append(response[\"main\"][\"temp_max\"])\n",
    "        humidity.append(response[\"main\"][\"humidity\"])\n",
    "        cloudiness.append(response[\"clouds\"][\"all\"])\n",
    "        wind_speed.append(response[\"wind\"][\"speed\"])\n",
    "        city_record = response[\"name\"]\n",
    "        print(f\"Recorded city {counter} - {city_record}\")\n",
    "        \n",
    "        counter += 1\n",
    "    except:\n",
    "        print('No city found. Next..')\n",
    "    continue"
   ]
  },
  {
   "cell_type": "code",
   "execution_count": 10,
   "metadata": {},
   "outputs": [
    {
     "name": "stdout",
     "output_type": "stream",
     "text": [
      "['puerto ayora', 'saint-joseph', 'aflu', 'zhaoyuan', 'yellowknife', 'busselton', 'longyearbyen', 'coquimbo', 'payakumbuh', 'mataura', 'thompson', 'jamestown', 'olinda', 'norsup', 'mahebourg', 'la vergne', 'salinopolis', 'atuona', 'upernavik', 'ushuaia', 'rikitea', 'chokurdakh', 'kamenskoye', 'qaanaaq', 'solsvik', 'illoqqortoormiut', 'bluff', 'mirnyy', 'volsk', 'tuktoyaktuk', 'zaysan', 'pevek', 'presidencia roque saenz pena', 'provideniya', 'manggar', 'pinega', 'verkh-usugli', 'tungkang', 'chuy', 'kodiak', 'taolanaro', 'east london', 'iqaluit', 'bintulu', 'haimen', 'winchester', 'swift current', 'hilo', 'butaritari', 'new norfolk', 'harper', 'havoysund', 'kapaa', 'la ronge', 'horki', 'pasni', 'hami', 'thunder bay', 'apomu', 'grand gaube', 'koroni', 'halalo', 'sept-iles', 'lensk', 'mount isa', 'port alfred', 'port elizabeth', 'khatanga', 'naze', 'kattivakkam', 'nizhneyansk', 'baykit', 'hailar', 'fraserburgh', 'hobart', 'cape town', 'saint george', 'san cristobal', 'faya', 'airai', 'porto novo', 'galesong', 'pochutla', 'kurumkan', 'kotdwara', 'lompoc', 'maltahohe', 'kaeo', 'murray bridge', 'paita', 'punta arenas', 'palabuhanratu', 'chegdomyn', 'kokkola', 'hay river', 'santa isabel', 'arraial do cabo', 'pisco', 'hermanus', 'kusk', 'belushya guba', 'poum', 'barrow', 'clyde river', 'gizo', 'albany', 'norman wells', 'pimenta bueno', 'aykhal', 'halifax', 'galiwinku', 'castro', 'usinsk', 'ambilobe', 'sitka', 'luganville', 'bathsheba', 'abu dhabi', 'sapulpa', 'dikson', 'takoradi', 'vaini', 'lazaro cardenas', 'mahajanga', 'kamyshevatskaya', 'praia da vitoria', 'senador jose porfirio', 'svatove', 'omsukchan', 'port shepstone', 'rafai', 'cockburn town', 'bredasdorp', 'vila velha', 'maniitsoq', 'port-gentil', 'kisangani', 'ahipara', 'tura', 'natal', 'nantucket', 'tasiilaq', 'antalaha', 'erenhot', 'ponta do sol', 'rochegda', 'praya', 'zhicheng', 'okhotsk', 'kerteh', 'samarai', 'yatou', 'kampong thum', 'cidreira', 'palana', 'lasem', 'kaitangata', 'cayenne', 'leiyang', 'marcona', 'lumby', 'kruisfontein', 'okato', 'lolua', 'mar del plata', 'itoman', 'victoria', 'kuche', 'haines junction', 'adrar', 'chicontepec', 'nuevo progreso', 'haikou', 'amderma', 'belyy yar', 'codrington', 'fortuna', 'padang', 'saldanha', 'avarua', 'namatanai', 'vanderhoof', 'labrea', 'sinnamary', 'bogandinskiy', 'vestmannaeyjar', 'imisli', 'kupang', 'marawi', 'kajaani', 'solnechnyy', 'synya', 'isangel', 'boppard', 'virginia beach', 'tsihombe', 'ketchikan', 'nalut', 'baherden', 'altamira', 'guerrero negro', 'vidim', 'maine-soroa', 'morgan city', 'bomet', 'bengkulu', 'kushiro', 'ayr', 'tambopata', 'palembang', 'san ramon de la nueva oran', 'saint-pierre', 'aswan', 'borogontsy', 'ust-nera', 'saint anthony', 'ribeira grande', 'torbay', 'hithadhoo', 'rognan', 'yerbogachen', 'juneau', 'souillac', 'darasun', 'nioro', 'yarim', 'beisfjord', 'ridgecrest', 'laguna', 'scottsburgh', 'hamilton', 'lebu', 'geraldton', 'kalmunai', 'vila franca do campo', 'baruun-urt', 'bur gabo', 'tautira', 'springfield', 'gwalior', 'parana', 'siocon', 'ixtapa', 'katsiveli', 'dongzhen', 'portland', 'blackwater', 'yzeure', 'belmonte', 'grand river south east', 'komsomolskiy', 'katsuura', 'goba', 'villa union', 'whitianga', 'tiksi', 'hambantota', 'mount gambier', 'umzimvubu', 'hidalgotitlan', 'guarapari', 'yulara', 'salalah', 'bambari', 'carnarvon', 'requena', 'naron', 'khorramabad', 'mulege', 'arlit', 'alpena', 'jumla', 'cherskiy', 'corral nuevo', 'labuhan', 'san quintin', 'karakendzha', 'utiroa', 'ashtabula', 'conceicao do araguaia', 'kavaratti', 'aklavik', 'safford', 'flinders', 'nikolskoye', 'kifri', 'shingu', 'constitucion', 'merrill', 'novyy urengoy', 'ngukurr', 'bud', 'sinkat', 'lorengau', 'kampot', 'scarborough', 'yarada', 'te anau', 'los llanos de aridane', 'gushikawa', 'hualmay', 'bargal', 'nishihara', 'awbari', 'samusu', 'lahad datu', 'sangin', 'klaksvik', 'eureka', 'honiara', 'tutoia', 'cleburne', 'luderitz', 'la seyne-sur-mer', 'berkak', 'yanan', 'bethel', 'artyk', 'chimore', 'saskylakh', 'vangaindrano', 'candelaria', 'camocim', 'tual', 'esperance', 'waipawa', 'dolores', 'san angelo', 'broken hill', 'gashua', 'havelock', 'attawapiskat', 'sentyabrskiy', 'inhambane', 'mitsamiouli', 'kenai', 'mawlaik', 'hasaki', 'bandarbeyla', 'cairns', 'mangai', 'nemuro', 'strezhevoy', 'ancud', 'post falls', 'atocha', 'bitung', 'sangar', 'zhigansk', 'hobyo', 'mys shmidta', 'madison', 'muros', 'miraflores', 'kutum', 'olafsvik', 'mexico', 'jiddah', 'port augusta', 'pringsewu', 'cabo san lucas', 'la rioja', 'nelson bay', 'avera', 'kenora', 'asau', 'mocambique', 'lebork', 'la libertad', 'kudeyevskiy', 'tamiahua', 'narsaq', 'karaul', 'sorong', 'scottsbluff', 'barentsburg', 'caravelas', 'severo-kurilsk', 'sa kaeo', 'adeje', 'tarudant', 'waw', 'jacareacanga', 'georgetown', 'komatipoort', 'charters towers', 'rawson', 'dwarka', 'normandin', 'constantine', 'cumaribo', 'channel-port aux basques', 'taucha', 'pomoryany', 'atar', 'rawannawi', 'ust-kamchatsk', 'ugoofaaru', 'saint-philippe', 'coahuayana', 'huarmey', 'areosa', 'barysh', 'bambous virieux', 'sao filipe', 'paka', 'port lincoln', 'malanje', 'taltal', 'dunedin', 'porto belo', 'leningradskiy', 'erzin', 'luanda', 'pangnirtung', 'vardo', 'chapais', 'ambanja', 'umm bab', 'nome', 'san andres', 'kavieng', 'san policarpo', 'atambua', 'maldonado', 'utica', 'rio grande', 'bolungarvik', 'mao', 'senno', 'vieux-habitants', 'selma', 'tucurui', 'maragogi', 'acarau', 'bonavista', 'kokoda', 'svetlaya', 'letterkenny', 'hit', 'road town', 'itaituba', 'auki', 'walvis bay', 'dolbeau', 'fort nelson', 'bartica', 'pumiao', 'luangwa', 'savannah bight', 'tuxpan', 'poltavka', 'lata', 'whitecourt', 'turbat', 'port hedland', 'nanortalik', 'lexington', 'quelimane', 'coihaique', 'saleaula', 'binzhou', 'dandong', 'saint-honore', 'dukat', 'nabire', 'jalu', 'paamiut', 'primorsk', 'tolaga bay', 'skelleftea', 'tawang', 'svetlyy', 'longido', 'buchanan', 'tumannyy', 'san patricio', 'gazanjyk', 'bijni', 'marzuq', 'yar-sale', 'tobol', 'darnah', 'hanumangarh', 'bahia blanca', 'bogen', 'opelousas', 'pahrump', 'mesyagutovo', 'chaykovskiy', 'boguchany', 'sechura', 'beloha', 'kula', 'rundu', 'ocotepec', 'marfino', 'taremskoye', 'cabedelo', 'xadani', 'zabol', 'mpigi', 'misratah', 'grindavik', 'rumuruti', 'nakamura', 'vrede', 'tezu', 'brae', 'anuradhapura', 'husavik', 'merauke', 'hirado', 'plouzane', 'rio gallegos', 'ajdabiya', 'meulaboh', 'nerchinskiy zavod', 'grand centre', 'vao', 'sulina', 'ternate', 'vaitupu', 'urumqi', 'mantua', 'rock sound', 'van buren', 'carbonia', 'namibe', 'margate', 'kahului', 'yagoua', 'raga', 'mujiayingzi', 'vanimo', 'mana', 'umm lajj', 'orange walk', 'alofi', 'mokhsogollokh', 'azimur', 'trairi', 'zhezkazgan', 'wahran', 'isoka', 'villa corzo', 'pacific grove', 'matara', 'taraz', 'batagay-alyta', 'havre-saint-pierre', 'vila', 'agaro', 'port hardy', 'svetlogorsk', 'black forest', 'oktyabrskoye', 'qarqin', 'diu', 'tabiauea', 'srednekolymsk', 'zharkent', 'hoquiam', 'ambon', 'kuytun', 'araouane', 'mugur-aksy', 'boljarovo', 'le port', 'faanui', 'namtsy', 'launceston', 'ruidoso', 'neiafu', 'reconquista', 'adre', 'la asuncion', 'wiarton', 'broome', 'acapulco', 'akcaabat', 'puerto penasco', 'upata', 'la mira', 'vostok', 'kitob', 'amarante do maranhao', 'irtyshskiy', 'tasbuget', 'lalmohan', 'samur', 'bima', 'samana', 'piacabucu', 'kazalinsk', 'qianan', 'chiredzi', 'bayangol', 'vlore', 'quang ngai', 'aykino', 'taunggyi', 'leh', 'kaset sombun', 'fare', 'batemans bay', 'nguiu', 'kargasok', 'praia', 'alamosa', 'zhuhai', 'ulaangom', 'palmer', 'shimoda', 'boa vista']\n"
     ]
    },
    {
     "data": {
      "text/plain": [
       "615"
      ]
     },
     "execution_count": 10,
     "metadata": {},
     "output_type": "execute_result"
    }
   ],
   "source": [
    "print(cities)"
   ]
  },
  {
   "cell_type": "markdown",
   "metadata": {},
   "source": [
    "### Convert Raw Data to DataFrame\n",
    "* Export the city data into a .csv.\n",
    "* Display the DataFrame"
   ]
  },
  {
   "cell_type": "code",
   "execution_count": 17,
   "metadata": {},
   "outputs": [],
   "source": [
    "weather_data = {\n",
    "    \"City\": city_name,\n",
    "    \"Country\" : country,\n",
    "    \"Date\": date,\n",
    "    \"Latitude\": latitude,\n",
    "    \"Longitude\": longitude,\n",
    "    \"Max Temperature\": max_temp,\n",
    "    \"Humidity\": humidity,\n",
    "    \"Cloudiness\": cloudiness,\n",
    "    \"Wind Speed\": wind_speed\n",
    "    \n",
    "}\n",
    "\n",
    "weather_df = pd.DataFrame(weather_data)\n",
    "weather_df.to_csv(\"../output_data/weather_df.csv\")"
   ]
  },
  {
   "cell_type": "code",
   "execution_count": 15,
   "metadata": {},
   "outputs": [
    {
     "data": {
      "text/html": [
       "<div>\n",
       "<style scoped>\n",
       "    .dataframe tbody tr th:only-of-type {\n",
       "        vertical-align: middle;\n",
       "    }\n",
       "\n",
       "    .dataframe tbody tr th {\n",
       "        vertical-align: top;\n",
       "    }\n",
       "\n",
       "    .dataframe thead th {\n",
       "        text-align: right;\n",
       "    }\n",
       "</style>\n",
       "<table border=\"1\" class=\"dataframe\">\n",
       "  <thead>\n",
       "    <tr style=\"text-align: right;\">\n",
       "      <th></th>\n",
       "      <th>City</th>\n",
       "      <th>Country</th>\n",
       "      <th>Date</th>\n",
       "      <th>Latitude</th>\n",
       "      <th>Longitude</th>\n",
       "      <th>Max Temperature</th>\n",
       "      <th>Humidity</th>\n",
       "      <th>Cloudiness</th>\n",
       "      <th>Wind Speed</th>\n",
       "    </tr>\n",
       "  </thead>\n",
       "  <tbody>\n",
       "    <tr>\n",
       "      <td>0</td>\n",
       "      <td>Puerto Ayora</td>\n",
       "      <td>EC</td>\n",
       "      <td>1589251587</td>\n",
       "      <td>-0.74</td>\n",
       "      <td>-90.35</td>\n",
       "      <td>75.99</td>\n",
       "      <td>95</td>\n",
       "      <td>99</td>\n",
       "      <td>1.01</td>\n",
       "    </tr>\n",
       "    <tr>\n",
       "      <td>1</td>\n",
       "      <td>Saint-Joseph</td>\n",
       "      <td>RE</td>\n",
       "      <td>1589251587</td>\n",
       "      <td>-21.37</td>\n",
       "      <td>55.62</td>\n",
       "      <td>68.00</td>\n",
       "      <td>60</td>\n",
       "      <td>90</td>\n",
       "      <td>4.70</td>\n",
       "    </tr>\n",
       "    <tr>\n",
       "      <td>2</td>\n",
       "      <td>Zhaoyuan</td>\n",
       "      <td>CN</td>\n",
       "      <td>1589251588</td>\n",
       "      <td>37.36</td>\n",
       "      <td>120.40</td>\n",
       "      <td>64.49</td>\n",
       "      <td>30</td>\n",
       "      <td>0</td>\n",
       "      <td>18.90</td>\n",
       "    </tr>\n",
       "    <tr>\n",
       "      <td>3</td>\n",
       "      <td>Yellowknife</td>\n",
       "      <td>CA</td>\n",
       "      <td>1589251535</td>\n",
       "      <td>62.46</td>\n",
       "      <td>-114.35</td>\n",
       "      <td>46.40</td>\n",
       "      <td>42</td>\n",
       "      <td>75</td>\n",
       "      <td>13.87</td>\n",
       "    </tr>\n",
       "    <tr>\n",
       "      <td>4</td>\n",
       "      <td>Busselton</td>\n",
       "      <td>AU</td>\n",
       "      <td>1589251588</td>\n",
       "      <td>-33.65</td>\n",
       "      <td>115.33</td>\n",
       "      <td>62.01</td>\n",
       "      <td>81</td>\n",
       "      <td>100</td>\n",
       "      <td>5.01</td>\n",
       "    </tr>\n",
       "    <tr>\n",
       "      <td>...</td>\n",
       "      <td>...</td>\n",
       "      <td>...</td>\n",
       "      <td>...</td>\n",
       "      <td>...</td>\n",
       "      <td>...</td>\n",
       "      <td>...</td>\n",
       "      <td>...</td>\n",
       "      <td>...</td>\n",
       "      <td>...</td>\n",
       "    </tr>\n",
       "    <tr>\n",
       "      <td>553</td>\n",
       "      <td>Zhuhai</td>\n",
       "      <td>CN</td>\n",
       "      <td>1589251673</td>\n",
       "      <td>22.28</td>\n",
       "      <td>113.57</td>\n",
       "      <td>84.00</td>\n",
       "      <td>78</td>\n",
       "      <td>20</td>\n",
       "      <td>4.70</td>\n",
       "    </tr>\n",
       "    <tr>\n",
       "      <td>554</td>\n",
       "      <td>Ulaangom</td>\n",
       "      <td>MN</td>\n",
       "      <td>1589251723</td>\n",
       "      <td>49.98</td>\n",
       "      <td>92.07</td>\n",
       "      <td>68.18</td>\n",
       "      <td>22</td>\n",
       "      <td>85</td>\n",
       "      <td>4.14</td>\n",
       "    </tr>\n",
       "    <tr>\n",
       "      <td>555</td>\n",
       "      <td>Palmer</td>\n",
       "      <td>US</td>\n",
       "      <td>1589251610</td>\n",
       "      <td>42.16</td>\n",
       "      <td>-72.33</td>\n",
       "      <td>45.00</td>\n",
       "      <td>87</td>\n",
       "      <td>91</td>\n",
       "      <td>3.00</td>\n",
       "    </tr>\n",
       "    <tr>\n",
       "      <td>556</td>\n",
       "      <td>Shimoda</td>\n",
       "      <td>JP</td>\n",
       "      <td>1589251723</td>\n",
       "      <td>34.67</td>\n",
       "      <td>138.95</td>\n",
       "      <td>79.00</td>\n",
       "      <td>73</td>\n",
       "      <td>75</td>\n",
       "      <td>8.05</td>\n",
       "    </tr>\n",
       "    <tr>\n",
       "      <td>557</td>\n",
       "      <td>Boa Vista</td>\n",
       "      <td>BR</td>\n",
       "      <td>1589251723</td>\n",
       "      <td>2.82</td>\n",
       "      <td>-60.67</td>\n",
       "      <td>80.60</td>\n",
       "      <td>78</td>\n",
       "      <td>20</td>\n",
       "      <td>6.93</td>\n",
       "    </tr>\n",
       "  </tbody>\n",
       "</table>\n",
       "<p>558 rows × 9 columns</p>\n",
       "</div>"
      ],
      "text/plain": [
       "             City Country        Date  Latitude  Longitude  Max Temperature  \\\n",
       "0    Puerto Ayora      EC  1589251587     -0.74     -90.35            75.99   \n",
       "1    Saint-Joseph      RE  1589251587    -21.37      55.62            68.00   \n",
       "2        Zhaoyuan      CN  1589251588     37.36     120.40            64.49   \n",
       "3     Yellowknife      CA  1589251535     62.46    -114.35            46.40   \n",
       "4       Busselton      AU  1589251588    -33.65     115.33            62.01   \n",
       "..            ...     ...         ...       ...        ...              ...   \n",
       "553        Zhuhai      CN  1589251673     22.28     113.57            84.00   \n",
       "554      Ulaangom      MN  1589251723     49.98      92.07            68.18   \n",
       "555        Palmer      US  1589251610     42.16     -72.33            45.00   \n",
       "556       Shimoda      JP  1589251723     34.67     138.95            79.00   \n",
       "557     Boa Vista      BR  1589251723      2.82     -60.67            80.60   \n",
       "\n",
       "     Humidity  Cloudiness  Wind Speed  \n",
       "0          95          99        1.01  \n",
       "1          60          90        4.70  \n",
       "2          30           0       18.90  \n",
       "3          42          75       13.87  \n",
       "4          81         100        5.01  \n",
       "..        ...         ...         ...  \n",
       "553        78          20        4.70  \n",
       "554        22          85        4.14  \n",
       "555        87          91        3.00  \n",
       "556        73          75        8.05  \n",
       "557        78          20        6.93  \n",
       "\n",
       "[558 rows x 9 columns]"
      ]
     },
     "execution_count": 15,
     "metadata": {},
     "output_type": "execute_result"
    }
   ],
   "source": [
    "weather_df"
   ]
  },
  {
   "cell_type": "markdown",
   "metadata": {},
   "source": [
    "### Plotting the Data\n",
    "* Use proper labeling of the plots using plot titles (including date of analysis) and axes labels.\n",
    "* Save the plotted figures as .pngs."
   ]
  },
  {
   "cell_type": "markdown",
   "metadata": {},
   "source": [
    "#### Latitude vs. Temperature Plot"
   ]
  },
  {
   "cell_type": "code",
   "execution_count": 19,
   "metadata": {
    "scrolled": true
   },
   "outputs": [
    {
     "data": {
      "image/png": "[encoded data removed]",
      "text/plain": [
       "<Figure size 432x288 with 1 Axes>"
      ]
     },
     "metadata": {
      "needs_background": "light"
     },
     "output_type": "display_data"
    },
    {
     "data": {
      "text/plain": [
       "<Figure size 432x288 with 0 Axes>"
      ]
     },
     "metadata": {},
     "output_type": "display_data"
    }
   ],
   "source": [
    "plt.scatter(weather_df[\"Latitude\"], weather_df[\"Max Temperature\"], facecolor=\"blue\", marker=\"o\")\n",
    "\n",
    "plt.title(\"City Latitude vs Max Temperature\")\n",
    "plt.ylabel(\"Max Temperature (F)\")\n",
    "plt.xlabel(\"Latitude\")\n",
    "\n",
    "plt.show()\n",
    "\n",
    "plt.savefig(\"../output_data/latitude_vs_temperature.png\")"
   ]
  },
  {
   "cell_type": "markdown",
   "metadata": {},
   "source": [
    "#### Latitude vs. Humidity Plot"
   ]
  },
  {
   "cell_type": "code",
   "execution_count": 20,
   "metadata": {},
   "outputs": [
    {
     "data": {
      "image/png": "[encoded data removed]",
      "text/plain": [
       "<Figure size 432x288 with 1 Axes>"
      ]
     },
     "metadata": {
      "needs_background": "light"
     },
     "output_type": "display_data"
    },
    {
     "data": {
      "text/plain": [
       "<Figure size 432x288 with 0 Axes>"
      ]
     },
     "metadata": {},
     "output_type": "display_data"
    }
   ],
   "source": [
    "plt.scatter(weather_df[\"Latitude\"], weather_df[\"Humidity\"], facecolor=\"blue\", marker=\"o\")\n",
    "\n",
    "plt.title(\"City Latitude vs Humidity\")\n",
    "plt.ylabel(\"Humidity\")\n",
    "plt.xlabel(\"Latitude\")\n",
    "\n",
    "plt.show()\n",
    "\n",
    "plt.savefig(\"../output_data/latitude_vs_humidity.png\")"
   ]
  },
  {
   "cell_type": "markdown",
   "metadata": {},
   "source": [
    "#### Latitude vs. Cloudiness Plot"
   ]
  },
  {
   "cell_type": "code",
   "execution_count": 21,
   "metadata": {},
   "outputs": [
    {
     "data": {
      "image/png": "[encoded data removed]",
      "text/plain": [
       "<Figure size 432x288 with 1 Axes>"
      ]
     },
     "metadata": {
      "needs_background": "light"
     },
     "output_type": "display_data"
    },
    {
     "data": {
      "text/plain": [
       "<Figure size 432x288 with 0 Axes>"
      ]
     },
     "metadata": {},
     "output_type": "display_data"
    }
   ],
   "source": [
    "plt.scatter(weather_df[\"Latitude\"], weather_df[\"Cloudiness\"], facecolor=\"blue\", marker=\"o\")\n",
    "\n",
    "plt.title(\"City Latitude vs Cloudiness\")\n",
    "plt.ylabel(\"Cloudiness\")\n",
    "plt.xlabel(\"Latitude\")\n",
    "\n",
    "plt.show()\n",
    "\n",
    "plt.savefig(\"../output_data/latitude_vs_cloudiness.png\")"
   ]
  },
  {
   "cell_type": "markdown",
   "metadata": {},
   "source": [
    "#### Latitude vs. Wind Speed Plot"
   ]
  },
  {
   "cell_type": "code",
   "execution_count": 22,
   "metadata": {},
   "outputs": [
    {
     "data": {
      "image/png": "[encoded data removed]",
      "text/plain": [
       "<Figure size 432x288 with 1 Axes>"
      ]
     },
     "metadata": {
      "needs_background": "light"
     },
     "output_type": "display_data"
    },
    {
     "data": {
      "text/plain": [
       "<Figure size 432x288 with 0 Axes>"
      ]
     },
     "metadata": {},
     "output_type": "display_data"
    }
   ],
   "source": [
    "plt.scatter(weather_df[\"Latitude\"], weather_df[\"Wind Speed\"], facecolor=\"blue\", marker=\"o\")\n",
    "\n",
    "plt.title(\"City Latitude vs Wind Speed\")\n",
    "plt.ylabel(\"Wind Speed\")\n",
    "plt.xlabel(\"Latitude\")\n",
    "\n",
    "plt.show()\n",
    "\n",
    "plt.savefig(\"../output_data/latitude_vs_windspeed.png\")"
   ]
  },
  {
   "cell_type": "markdown",
   "metadata": {},
   "source": [
    "## Linear Regression"
   ]
  },
  {
   "cell_type": "code",
   "execution_count": 108,
   "metadata": {},
   "outputs": [],
   "source": [
    "# OPTIONAL: Create a function to create Linear Regression plots\n"
   ]
  },
  {
   "cell_type": "code",
   "execution_count": 78,
   "metadata": {},
   "outputs": [],
   "source": [
    "# Create Northern and Southern Hemisphere DataFrames\n"
   ]
  },
  {
   "cell_type": "markdown",
   "metadata": {},
   "source": [
    "####  Northern Hemisphere - Max Temp vs. Latitude Linear Regression"
   ]
  },
  {
   "cell_type": "code",
   "execution_count": 109,
   "metadata": {},
   "outputs": [
    {
     "name": "stdout",
     "output_type": "stream",
     "text": [
      "The r-squared is: -0.8151657406810827\n"
     ]
    },
    {
     "data": {
      "image/png": "[encoded data removed]",
      "text/plain": [
       "<matplotlib.figure.Figure at 0x1a20ab3518>"
      ]
     },
     "metadata": {},
     "output_type": "display_data"
    }
   ],
   "source": []
  },
  {
   "cell_type": "markdown",
   "metadata": {},
   "source": [
    "####  Southern Hemisphere - Max Temp vs. Latitude Linear Regression"
   ]
  },
  {
   "cell_type": "code",
   "execution_count": 110,
   "metadata": {},
   "outputs": [
    {
     "name": "stdout",
     "output_type": "stream",
     "text": [
      "The r-squared is: 0.760263355051646\n"
     ]
    },
    {
     "data": {
      "image/png": "[encoded data removed]",
      "text/plain": [
       "<matplotlib.figure.Figure at 0x1a20012470>"
      ]
     },
     "metadata": {},
     "output_type": "display_data"
    }
   ],
   "source": []
  },
  {
   "cell_type": "markdown",
   "metadata": {},
   "source": [
    "####  Northern Hemisphere - Humidity (%) vs. Latitude Linear Regression"
   ]
  },
  {
   "cell_type": "code",
   "execution_count": 111,
   "metadata": {},
   "outputs": [
    {
     "name": "stdout",
     "output_type": "stream",
     "text": [
      "The r-squared is: 0.10358336015746494\n"
     ]
    },
    {
     "data": {
      "image/png": "[encoded data removed]",
      "text/plain": [
       "<matplotlib.figure.Figure at 0x11ddce780>"
      ]
     },
     "metadata": {},
     "output_type": "display_data"
    }
   ],
   "source": []
  },
  {
   "cell_type": "markdown",
   "metadata": {},
   "source": [
    "####  Southern Hemisphere - Humidity (%) vs. Latitude Linear Regression"
   ]
  },
  {
   "cell_type": "code",
   "execution_count": 112,
   "metadata": {},
   "outputs": [
    {
     "name": "stdout",
     "output_type": "stream",
     "text": [
      "The r-squared is: 0.14689473425583055\n"
     ]
    },
    {
     "data": {
      "image/png": "[encoded data removed]",
      "text/plain": [
       "<matplotlib.figure.Figure at 0x1a20066438>"
      ]
     },
     "metadata": {},
     "output_type": "display_data"
    }
   ],
   "source": []
  },
  {
   "cell_type": "markdown",
   "metadata": {},
   "source": [
    "####  Northern Hemisphere - Cloudiness (%) vs. Latitude Linear Regression"
   ]
  },
  {
   "cell_type": "code",
   "execution_count": 115,
   "metadata": {},
   "outputs": [
    {
     "name": "stdout",
     "output_type": "stream",
     "text": [
      "The r-squared is: -0.08733547918934018\n"
     ]
    },
    {
     "data": {
      "image/png": "[encoded data removed]",
      "text/plain": [
       "<matplotlib.figure.Figure at 0x1a20b2e898>"
      ]
     },
     "metadata": {},
     "output_type": "display_data"
    }
   ],
   "source": []
  },
  {
   "cell_type": "markdown",
   "metadata": {},
   "source": [
    "####  Southern Hemisphere - Cloudiness (%) vs. Latitude Linear Regression"
   ]
  },
  {
   "cell_type": "code",
   "execution_count": 114,
   "metadata": {},
   "outputs": [
    {
     "name": "stdout",
     "output_type": "stream",
     "text": [
      "The r-squared is: 0.21881426893991618\n"
     ]
    },
    {
     "data": {
      "image/png": "[encoded data removed]",
      "text/plain": [
       "<matplotlib.figure.Figure at 0x1a20affa20>"
      ]
     },
     "metadata": {},
     "output_type": "display_data"
    }
   ],
   "source": []
  },
  {
   "cell_type": "markdown",
   "metadata": {},
   "source": [
    "####  Northern Hemisphere - Wind Speed (mph) vs. Latitude Linear Regression"
   ]
  },
  {
   "cell_type": "code",
   "execution_count": 117,
   "metadata": {},
   "outputs": [
    {
     "name": "stdout",
     "output_type": "stream",
     "text": [
      "The r-squared is: 0.1071382774388479\n"
     ]
    },
    {
     "data": {
      "image/png": "[encoded data removed]",
      "text/plain": [
       "<matplotlib.figure.Figure at 0x1a1f4bae48>"
      ]
     },
     "metadata": {},
     "output_type": "display_data"
    }
   ],
   "source": []
  },
  {
   "cell_type": "markdown",
   "metadata": {},
   "source": [
    "####  Southern Hemisphere - Wind Speed (mph) vs. Latitude Linear Regression"
   ]
  },
  {
   "cell_type": "code",
   "execution_count": 116,
   "metadata": {},
   "outputs": [
    {
     "name": "stdout",
     "output_type": "stream",
     "text": [
      "The r-squared is: -0.322483077139538\n"
     ]
    },
    {
     "data": {
      "image/png": "[encoded data removed]",
      "text/plain": [
       "<matplotlib.figure.Figure at 0x1a212ed940>"
      ]
     },
     "metadata": {},
     "output_type": "display_data"
    }
   ],
   "source": []
  },
  {
   "cell_type": "code",
   "execution_count": null,
   "metadata": {},
   "outputs": [],
   "source": []
  }
 ],
 "metadata": {
  "anaconda-cloud": {},
  "kernel_info": {
   "name": "python3"
  },
  "kernelspec": {
   "display_name": "Python 3",
   "language": "python",
   "name": "python3"
  },
  "language_info": {
   "codemirror_mode": {
    "name": "ipython",
    "version": 3
   },
   "file_extension": ".py",
   "mimetype": "text/x-python",
   "name": "python",
   "nbconvert_exporter": "python",
   "pygments_lexer": "ipython3",
   "version": "3.7.4"
  },
  "latex_envs": {
   "LaTeX_envs_menu_present": true,
   "autoclose": false,
   "autocomplete": true,
   "bibliofile": "biblio.bib",
   "cite_by": "apalike",
   "current_citInitial": 1,
   "eqLabelWithNumbers": true,
   "eqNumInitial": 1,
   "hotkeys": {
    "equation": "Ctrl-E",
    "itemize": "Ctrl-I"
   },
   "labels_anchors": false,
   "latex_user_defs": false,
   "report_style_numbering": false,
   "user_envs_cfg": false
  },
  "nteract": {
   "version": "0.12.3"
  }
 },
 "nbformat": 4,
 "nbformat_minor": 2
}
